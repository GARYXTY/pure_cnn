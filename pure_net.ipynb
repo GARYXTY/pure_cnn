{
 "cells": [
  {
   "cell_type": "code",
   "execution_count": 124,
   "metadata": {},
   "outputs": [],
   "source": [
    "import numpy as np\n",
    "import tensorflow as tf\n",
    "import tensorflow.contrib.slim as slim\n",
    "%matplotlib inline\n",
    "import matplotlib.pyplot as plt\n",
    "from net.origin_net import Net\n",
    "import pickle"
   ]
  },
  {
   "cell_type": "code",
   "execution_count": 48,
   "metadata": {},
   "outputs": [],
   "source": [
    "net = Net()\n",
    "out = net.build_origin_net(1.0)"
   ]
  },
  {
   "cell_type": "code",
   "execution_count": 2,
   "metadata": {},
   "outputs": [],
   "source": [
    "model_path = './checkpoints/net_2018-12-19-10-05-17.ckpt-99900'"
   ]
  },
  {
   "cell_type": "code",
   "execution_count": 3,
   "metadata": {},
   "outputs": [],
   "source": [
    "model_path = './checkpoints/net_2018-12-19-10-05-17.ckpt-99900'\n",
    "reader = tf.train.NewCheckpointReader(model_path)\n",
    "all_variables = reader.get_variable_to_shape_map()"
   ]
  },
  {
   "cell_type": "code",
   "execution_count": 4,
   "metadata": {},
   "outputs": [
    {
     "data": {
      "text/plain": [
       "{'conv1/biases': [16],\n",
       " 'conv1/weights': [3, 3, 1, 16],\n",
       " 'conv2/biases': [32],\n",
       " 'conv2/weights': [3, 3, 16, 32],\n",
       " 'conv3/biases': [32],\n",
       " 'conv3/weights': [3, 3, 32, 32],\n",
       " 'fc1/biases': [128],\n",
       " 'fc1/weights': [512, 128],\n",
       " 'fc2/biases': [256],\n",
       " 'fc2/weights': [128, 256],\n",
       " 'global_step': [],\n",
       " 'logits/biases': [10],\n",
       " 'logits/weights': [256, 10]}"
      ]
     },
     "execution_count": 4,
     "metadata": {},
     "output_type": "execute_result"
    }
   ],
   "source": [
    "all_variables"
   ]
  },
  {
   "cell_type": "markdown",
   "metadata": {},
   "source": [
    "# 1. pure conv1的权重"
   ]
  },
  {
   "cell_type": "markdown",
   "metadata": {},
   "source": [
    "### 1.1 处理 conv1 的权重"
   ]
  },
  {
   "cell_type": "code",
   "execution_count": 7,
   "metadata": {},
   "outputs": [
    {
     "data": {
      "text/plain": [
       "(3, 3, 1, 16)"
      ]
     },
     "execution_count": 7,
     "metadata": {},
     "output_type": "execute_result"
    }
   ],
   "source": [
    "# 分析 conv1 的权重\n",
    "conv1_weight = reader.get_tensor(\"conv1/weights\")\n",
    "conv1_weight.shape"
   ]
  },
  {
   "cell_type": "code",
   "execution_count": 8,
   "metadata": {},
   "outputs": [],
   "source": [
    "# 计算每个kernel权重的和 (也可以使用其他指标，如std，mean等)\n",
    "conv1_weight_sum = np.sum(conv1_weight, (0,1,2))\n",
    "sort_conv1_weights = np.sort(conv1_weight_sum)"
   ]
  },
  {
   "cell_type": "code",
   "execution_count": 9,
   "metadata": {},
   "outputs": [
    {
     "data": {
      "text/plain": [
       "[<matplotlib.lines.Line2D at 0x7f1a18c4f4e0>]"
      ]
     },
     "execution_count": 9,
     "metadata": {},
     "output_type": "execute_result"
    },
    {
     "data": {
      "image/png": "[encoded data removed]",
      "text/plain": [
       "<matplotlib.figure.Figure at 0x7f1a18f89358>"
      ]
     },
     "metadata": {},
     "output_type": "display_data"
    }
   ],
   "source": [
    "# 绘制conv1的\n",
    "x = np.arange(0,len(sort_conv1_weights),step=1)\n",
    "plt.plot(x,sort_conv1_weights)"
   ]
  },
  {
   "cell_type": "markdown",
   "metadata": {},
   "source": [
    "有近10个kernel的权重和几乎为0，所以可以视为其对模型没有贡献，为保证kernel数为4的倍数，删除kernel和最小的8个kernel"
   ]
  },
  {
   "cell_type": "code",
   "execution_count": 11,
   "metadata": {},
   "outputs": [],
   "source": [
    "pure_conv1_weight_index = np.where(conv1_weight_sum >= sort_conv1_weights[8])\n",
    "pure_conv1_weight = conv1_weight[:,:,:,pure_conv1_weight_index[0]]"
   ]
  },
  {
   "cell_type": "code",
   "execution_count": 12,
   "metadata": {},
   "outputs": [
    {
     "data": {
      "text/plain": [
       "array([ 0.00045041,  0.0262382 ,  0.0208248 , -0.00159773,  0.09998561,\n",
       "       -0.00079513,  0.00963001, -0.00306746], dtype=float32)"
      ]
     },
     "execution_count": 12,
     "metadata": {},
     "output_type": "execute_result"
    }
   ],
   "source": [
    "# conv1对应的bias 也做相同处理\n",
    "conv1_bias = reader.get_tensor(\"conv1/biases\")\n",
    "pure_conv1_bias = conv1_bias[pure_conv1_weight_index[0]]\n",
    "pure_conv1_bias"
   ]
  },
  {
   "cell_type": "markdown",
   "metadata": {},
   "source": [
    "### 1.2 处理接续 conv1 后面一层的权重"
   ]
  },
  {
   "cell_type": "markdown",
   "metadata": {},
   "source": [
    "conv1 kernel个数删减后，导致输出层的channel也会减少，所以对应后面一层的kernel通道也要减少 （对pooling层没有影响）\n",
    "对于本例，conv1的kernel个数为8，所以后一层kernel的通道数也要删减对应通道，对bias无影响"
   ]
  },
  {
   "cell_type": "code",
   "execution_count": 22,
   "metadata": {},
   "outputs": [],
   "source": [
    "conv2_weight = reader.get_tensor(\"conv2/weights\")\n",
    "conv2_bias = reader.get_tensor(\"conv2/biases\")"
   ]
  },
  {
   "cell_type": "code",
   "execution_count": 23,
   "metadata": {},
   "outputs": [],
   "source": [
    "conv2_weight = conv2_weight[:,:,pure_conv1_weight_index[0],:]"
   ]
  },
  {
   "cell_type": "markdown",
   "metadata": {},
   "source": [
    "# 2. pure conv2的权重"
   ]
  },
  {
   "cell_type": "markdown",
   "metadata": {},
   "source": [
    "### 2.1 处理conv2的权重\n",
    "在上一步的基础上删减conv2的kernel个数"
   ]
  },
  {
   "cell_type": "code",
   "execution_count": 25,
   "metadata": {},
   "outputs": [],
   "source": [
    "# 同理 先计算每个kernel 的权重和 找到最无关的一些kernel\n",
    "conv2_weight_sum = np.sum(conv2_weight, (0,1,2))\n",
    "sort_conv2_weights = np.sort(conv2_weight_sum)"
   ]
  },
  {
   "cell_type": "code",
   "execution_count": 26,
   "metadata": {},
   "outputs": [
    {
     "data": {
      "text/plain": [
       "[<matplotlib.lines.Line2D at 0x7f1a18b95e10>]"
      ]
     },
     "execution_count": 26,
     "metadata": {},
     "output_type": "execute_result"
    },
    {
     "data": {
      "image/png": "[encoded data removed]",
      "text/plain": [
       "<matplotlib.figure.Figure at 0x7f1a18ad08d0>"
      ]
     },
     "metadata": {},
     "output_type": "display_data"
    }
   ],
   "source": [
    "# 绘制conv2的权重和分布图\n",
    "x = np.arange(0,len(sort_conv2_weights),step=1)\n",
    "plt.plot(x,sort_conv2_weights)"
   ]
  },
  {
   "cell_type": "markdown",
   "metadata": {},
   "source": [
    "删除权重和最小16个kernel"
   ]
  },
  {
   "cell_type": "code",
   "execution_count": 29,
   "metadata": {},
   "outputs": [
    {
     "data": {
      "text/plain": [
       "(3, 3, 8, 16)"
      ]
     },
     "execution_count": 29,
     "metadata": {},
     "output_type": "execute_result"
    }
   ],
   "source": [
    "pure_conv2_weight_index = np.where(conv2_weight_sum >= sort_conv2_weights[16])\n",
    "pure_conv2_weight = conv2_weight[:,:,:,pure_conv2_weight_index[0]]\n",
    "pure_conv2_weight.shape"
   ]
  },
  {
   "cell_type": "code",
   "execution_count": 32,
   "metadata": {},
   "outputs": [
    {
     "data": {
      "text/plain": [
       "array([-0.09783957, -0.04131799, -0.02566011, -0.06543457,  0.06472238,\n",
       "       -0.00545198, -0.00474992, -0.02188597, -0.11222503, -0.006201  ,\n",
       "       -0.0155636 ,  0.13311498, -0.00833193, -0.02097046,  0.02653153,\n",
       "       -0.00043905], dtype=float32)"
      ]
     },
     "execution_count": 32,
     "metadata": {},
     "output_type": "execute_result"
    }
   ],
   "source": [
    "# conv2对应的bias 也做相同处理\n",
    "pure_conv2_bias = conv2_bias[pure_conv2_weight_index[0]]\n",
    "pure_conv2_bias"
   ]
  },
  {
   "cell_type": "markdown",
   "metadata": {},
   "source": [
    "### 2.2 处理接续conv2后面一层的kernel"
   ]
  },
  {
   "cell_type": "code",
   "execution_count": 35,
   "metadata": {},
   "outputs": [],
   "source": [
    "conv3_weight = reader.get_tensor(\"conv3/weights\")\n",
    "conv3_bias = reader.get_tensor(\"conv3/biases\")"
   ]
  },
  {
   "cell_type": "code",
   "execution_count": 36,
   "metadata": {},
   "outputs": [
    {
     "data": {
      "text/plain": [
       "(3, 3, 16, 32)"
      ]
     },
     "execution_count": 36,
     "metadata": {},
     "output_type": "execute_result"
    }
   ],
   "source": [
    "conv3_weight = conv3_weight[:,:,pure_conv2_weight_index[0],:]\n",
    "conv3_weight.shape"
   ]
  },
  {
   "cell_type": "markdown",
   "metadata": {},
   "source": [
    "# 3. pure conv3的权重"
   ]
  },
  {
   "cell_type": "markdown",
   "metadata": {},
   "source": [
    "### 3.1 处理conv3的权重"
   ]
  },
  {
   "cell_type": "code",
   "execution_count": 37,
   "metadata": {},
   "outputs": [],
   "source": [
    "conv3_weight_sum = np.sum(conv3_weight, (0,1,2))\n",
    "sort_conv3_weights = np.sort(conv3_weight_sum)"
   ]
  },
  {
   "cell_type": "code",
   "execution_count": 38,
   "metadata": {},
   "outputs": [
    {
     "data": {
      "text/plain": [
       "[<matplotlib.lines.Line2D at 0x7f1a18a27668>]"
      ]
     },
     "execution_count": 38,
     "metadata": {},
     "output_type": "execute_result"
    },
    {
     "data": {
      "image/png": "[encoded data removed]",
      "text/plain": [
       "<matplotlib.figure.Figure at 0x7f1a18adea20>"
      ]
     },
     "metadata": {},
     "output_type": "display_data"
    }
   ],
   "source": [
    "# 绘制conv3的权重和分布图\n",
    "x = np.arange(0,len(sort_conv3_weights),step=1)\n",
    "plt.plot(x,sort_conv3_weights)"
   ]
  },
  {
   "cell_type": "markdown",
   "metadata": {},
   "source": [
    "conv3的权重和均很小，再观察conv3权重的std"
   ]
  },
  {
   "cell_type": "code",
   "execution_count": 40,
   "metadata": {},
   "outputs": [],
   "source": [
    "conv3_weight_std = np.std(conv3_weight, (0,1,2))\n",
    "sort_conv3_weights_std = np.sort(conv3_weight_std)"
   ]
  },
  {
   "cell_type": "code",
   "execution_count": 41,
   "metadata": {},
   "outputs": [
    {
     "data": {
      "text/plain": [
       "[<matplotlib.lines.Line2D at 0x7f1a189e9710>]"
      ]
     },
     "execution_count": 41,
     "metadata": {},
     "output_type": "execute_result"
    },
    {
     "data": {
      "image/png": "[encoded data removed]",
      "text/plain": [
       "<matplotlib.figure.Figure at 0x7f1a18a6bdd8>"
      ]
     },
     "metadata": {},
     "output_type": "display_data"
    }
   ],
   "source": [
    "# 绘制conv3的权重std分布图\n",
    "x = np.arange(0,len(sort_conv3_weights_std),step=1)\n",
    "plt.plot(x,sort_conv3_weights_std)"
   ]
  },
  {
   "cell_type": "markdown",
   "metadata": {},
   "source": [
    "可以看到有13个kernel的权重几乎无变化，删除8个无变化的kernel"
   ]
  },
  {
   "cell_type": "code",
   "execution_count": 42,
   "metadata": {},
   "outputs": [
    {
     "data": {
      "text/plain": [
       "(3, 3, 16, 24)"
      ]
     },
     "execution_count": 42,
     "metadata": {},
     "output_type": "execute_result"
    }
   ],
   "source": [
    "pure_conv3_weight_index = np.where(conv3_weight_std >= sort_conv3_weights_std[8])\n",
    "pure_conv3_weight = conv3_weight[:,:,:,pure_conv3_weight_index[0]]\n",
    "pure_conv3_weight.shape"
   ]
  },
  {
   "cell_type": "code",
   "execution_count": 43,
   "metadata": {},
   "outputs": [
    {
     "data": {
      "text/plain": [
       "array([-0.01627444,  0.00682878, -0.1715058 , -0.03838071, -0.0669011 ,\n",
       "       -0.08104476,  0.01727855, -0.08151158, -0.07405551, -0.0405109 ,\n",
       "       -0.05420913, -0.06136179, -0.07107263, -0.10885695, -0.00152763,\n",
       "       -0.11885452, -0.07630014, -0.06948757, -0.04368662, -0.03982251,\n",
       "       -0.09128781, -0.07677395, -0.04346057,  0.006544  ], dtype=float32)"
      ]
     },
     "execution_count": 43,
     "metadata": {},
     "output_type": "execute_result"
    }
   ],
   "source": [
    "# conv3对应的bias 也做相同处理\n",
    "pure_conv3_bias = conv3_bias[pure_conv3_weight_index[0]]\n",
    "pure_conv3_bias"
   ]
  },
  {
   "cell_type": "markdown",
   "metadata": {},
   "source": [
    "### 3.2 处理接续 conv3 后面的全连接层的权重"
   ]
  },
  {
   "cell_type": "markdown",
   "metadata": {},
   "source": [
    "flatten 层处理多维数据时，是按照 c w h b 依次处理，所以接续 conv层 的 dense层只保留每个神经元的 c, 2c, ... , o_w x o_h x c 对应的元素"
   ]
  },
  {
   "cell_type": "code",
   "execution_count": 44,
   "metadata": {},
   "outputs": [],
   "source": [
    "fc1_weight = reader.get_tensor(\"fc1/weights\")\n",
    "fc1_bias = reader.get_tensor(\"fc1/biases\")"
   ]
  },
  {
   "cell_type": "code",
   "execution_count": 73,
   "metadata": {},
   "outputs": [
    {
     "data": {
      "text/plain": [
       "(512, 128)"
      ]
     },
     "execution_count": 73,
     "metadata": {},
     "output_type": "execute_result"
    }
   ],
   "source": [
    "fc1_weight.shape"
   ]
  },
  {
   "cell_type": "markdown",
   "metadata": {},
   "source": [
    "fc1前面接续的是pool3层，先获得pool3层的输出维度"
   ]
  },
  {
   "cell_type": "code",
   "execution_count": 55,
   "metadata": {},
   "outputs": [
    {
     "data": {
      "text/plain": [
       "TensorShape([Dimension(8), Dimension(4), Dimension(4), Dimension(32)])"
      ]
     },
     "execution_count": 55,
     "metadata": {},
     "output_type": "execute_result"
    }
   ],
   "source": [
    "# b h w c\n",
    "out['pool3'].get_shape()"
   ]
  },
  {
   "cell_type": "code",
   "execution_count": 56,
   "metadata": {},
   "outputs": [],
   "source": [
    "out_area = out['pool3'].get_shape()[1].value * out['pool3'].get_shape()[2].value"
   ]
  },
  {
   "cell_type": "code",
   "execution_count": 68,
   "metadata": {},
   "outputs": [],
   "source": [
    "pure_index = []\n",
    "for i in range(out_area):\n",
    "    pure_index += list(32 * i + pure_conv3_weight_index[0]) "
   ]
  },
  {
   "cell_type": "code",
   "execution_count": 74,
   "metadata": {},
   "outputs": [],
   "source": [
    "fc1_weight = fc1_weight[pure_index, :]"
   ]
  },
  {
   "cell_type": "markdown",
   "metadata": {},
   "source": [
    "# 4. pure fc1 的权重"
   ]
  },
  {
   "cell_type": "markdown",
   "metadata": {},
   "source": [
    "fc kernel删减基本逻辑与conv相同"
   ]
  },
  {
   "cell_type": "code",
   "execution_count": 78,
   "metadata": {},
   "outputs": [],
   "source": [
    "# 获得每个kernel的权重和\n",
    "fc1_weight_sum = np.sum(fc1_weight, (0,))\n",
    "sort_fc1_weights = np.sort(fc1_weight_sum)"
   ]
  },
  {
   "cell_type": "code",
   "execution_count": 79,
   "metadata": {},
   "outputs": [
    {
     "data": {
      "text/plain": [
       "[<matplotlib.lines.Line2D at 0x7f1a183a8550>]"
      ]
     },
     "execution_count": 79,
     "metadata": {},
     "output_type": "execute_result"
    },
    {
     "data": {
      "image/png": "[encoded data removed]",
      "text/plain": [
       "<matplotlib.figure.Figure at 0x7f1a18388128>"
      ]
     },
     "metadata": {},
     "output_type": "display_data"
    }
   ],
   "source": [
    "# 绘制fc1的权重和分布图\n",
    "x = np.arange(0,len(sort_fc1_weights),step=1)\n",
    "plt.plot(x,sort_fc1_weights)"
   ]
  },
  {
   "cell_type": "code",
   "execution_count": 81,
   "metadata": {},
   "outputs": [],
   "source": [
    "# 获得每个kernel的std\n",
    "fc1_weight_std = np.std(fc1_weight, (0,))\n",
    "sort_fc1_weights_std = np.sort(fc1_weight_std)"
   ]
  },
  {
   "cell_type": "code",
   "execution_count": 82,
   "metadata": {},
   "outputs": [
    {
     "data": {
      "text/plain": [
       "[<matplotlib.lines.Line2D at 0x7f1a184b61d0>]"
      ]
     },
     "execution_count": 82,
     "metadata": {},
     "output_type": "execute_result"
    },
    {
     "data": {
      "image/png": "[encoded data removed]",
      "text/plain": [
       "<matplotlib.figure.Figure at 0x7f1a1870a1d0>"
      ]
     },
     "metadata": {},
     "output_type": "display_data"
    }
   ],
   "source": [
    "# 绘制fc1的权重std分布图\n",
    "x = np.arange(0,len(sort_fc1_weights_std),step=1)\n",
    "plt.plot(x,sort_fc1_weights_std)"
   ]
  },
  {
   "cell_type": "markdown",
   "metadata": {},
   "source": [
    "删除std最小的96个kernel"
   ]
  },
  {
   "cell_type": "code",
   "execution_count": 86,
   "metadata": {},
   "outputs": [
    {
     "data": {
      "text/plain": [
       "(384, 32)"
      ]
     },
     "execution_count": 86,
     "metadata": {},
     "output_type": "execute_result"
    }
   ],
   "source": [
    "pure_fc1_weight_index = np.where(fc1_weight_std >= sort_fc1_weights_std[96])\n",
    "pure_fc1_weight = fc1_weight[:,pure_fc1_weight_index[0]]\n",
    "pure_fc1_weight.shape"
   ]
  },
  {
   "cell_type": "code",
   "execution_count": 87,
   "metadata": {},
   "outputs": [
    {
     "data": {
      "text/plain": [
       "array([ 0.06933335,  0.02037769,  0.01464757,  0.02116067,  0.04195461,\n",
       "        0.0135808 ,  0.01923977,  0.02196406,  0.04413285, -0.01887337,\n",
       "        0.03099032,  0.01619267,  0.07307059,  0.01455008,  0.03278447,\n",
       "       -0.00492902,  0.00954247,  0.04990456,  0.07606847,  0.01742192,\n",
       "       -0.01366234,  0.03869563,  0.0078333 , -0.01284413,  0.02595759,\n",
       "        0.10285708,  0.03164362, -0.03349329,  0.05203463,  0.0077379 ,\n",
       "        0.02752118,  0.02503087], dtype=float32)"
      ]
     },
     "execution_count": 87,
     "metadata": {},
     "output_type": "execute_result"
    }
   ],
   "source": [
    "# fc1 对应的bias 也做相同处理\n",
    "pure_fc1_bias = fc1_bias[pure_fc1_weight_index[0]]\n",
    "pure_fc1_bias"
   ]
  },
  {
   "cell_type": "markdown",
   "metadata": {},
   "source": [
    "### 4.2 处理 fc1 接续的 fc2的权重"
   ]
  },
  {
   "cell_type": "code",
   "execution_count": 144,
   "metadata": {},
   "outputs": [],
   "source": [
    "fc2_weight = reader.get_tensor(\"fc2/weights\")\n",
    "fc2_bias = reader.get_tensor(\"fc2/biases\")"
   ]
  },
  {
   "cell_type": "code",
   "execution_count": 145,
   "metadata": {},
   "outputs": [
    {
     "data": {
      "text/plain": [
       "(128, 256)"
      ]
     },
     "execution_count": 145,
     "metadata": {},
     "output_type": "execute_result"
    }
   ],
   "source": [
    "fc2_weight.shape"
   ]
  },
  {
   "cell_type": "code",
   "execution_count": 146,
   "metadata": {},
   "outputs": [],
   "source": [
    "# 只删减kernel 的 通道， 对bias无影响\n",
    "fc2_weight = fc2_weight[pure_fc1_weight_index[0],:]"
   ]
  },
  {
   "cell_type": "code",
   "execution_count": 147,
   "metadata": {},
   "outputs": [
    {
     "data": {
      "text/plain": [
       "(32, 256)"
      ]
     },
     "execution_count": 147,
     "metadata": {},
     "output_type": "execute_result"
    }
   ],
   "source": [
    "fc2_weight.shape"
   ]
  },
  {
   "cell_type": "code",
   "execution_count": 148,
   "metadata": {},
   "outputs": [
    {
     "data": {
      "text/plain": [
       "(256,)"
      ]
     },
     "execution_count": 148,
     "metadata": {},
     "output_type": "execute_result"
    }
   ],
   "source": [
    "fc2_bias.shape"
   ]
  },
  {
   "cell_type": "markdown",
   "metadata": {},
   "source": [
    "# 5. pure fc2的权重"
   ]
  },
  {
   "cell_type": "markdown",
   "metadata": {},
   "source": [
    "### 5.1 处理fc2的权重"
   ]
  },
  {
   "cell_type": "code",
   "execution_count": 97,
   "metadata": {},
   "outputs": [],
   "source": [
    "# 获得每个kernel的权重和\n",
    "fc2_weight_sum = np.sum(fc2_weight, (0,))\n",
    "sort_fc2_weights = np.sort(fc2_weight_sum)"
   ]
  },
  {
   "cell_type": "code",
   "execution_count": 98,
   "metadata": {},
   "outputs": [
    {
     "data": {
      "text/plain": [
       "[<matplotlib.lines.Line2D at 0x7f1a185b1198>]"
      ]
     },
     "execution_count": 98,
     "metadata": {},
     "output_type": "execute_result"
    },
    {
     "data": {
      "image/png": "[encoded data removed]",
      "text/plain": [
       "<matplotlib.figure.Figure at 0x7f1a183e88d0>"
      ]
     },
     "metadata": {},
     "output_type": "display_data"
    }
   ],
   "source": [
    "# 绘制fc2的权重和分布图\n",
    "x = np.arange(0,len(sort_fc2_weights),step=1)\n",
    "plt.plot(x,sort_fc2_weights)"
   ]
  },
  {
   "cell_type": "code",
   "execution_count": 100,
   "metadata": {},
   "outputs": [],
   "source": [
    "# 获得每个kernel的std\n",
    "fc2_weight_std = np.std(fc2_weight, (0,))\n",
    "sort_fc2_weights_std = np.sort(fc2_weight_std)"
   ]
  },
  {
   "cell_type": "code",
   "execution_count": 101,
   "metadata": {},
   "outputs": [
    {
     "data": {
      "text/plain": [
       "[<matplotlib.lines.Line2D at 0x7f1a184cc2e8>]"
      ]
     },
     "execution_count": 101,
     "metadata": {},
     "output_type": "execute_result"
    },
    {
     "data": {
      "image/png": "[encoded data removed]",
      "text/plain": [
       "<matplotlib.figure.Figure at 0x7f1a18453630>"
      ]
     },
     "metadata": {},
     "output_type": "display_data"
    }
   ],
   "source": [
    "# 绘制fc1的权重std分布图\n",
    "x = np.arange(0,len(sort_fc2_weights_std),step=1)\n",
    "plt.plot(x,sort_fc2_weights_std)"
   ]
  },
  {
   "cell_type": "markdown",
   "metadata": {},
   "source": [
    "数量较少，不再处理\n",
    "获得剩余的层的权重"
   ]
  },
  {
   "cell_type": "code",
   "execution_count": 102,
   "metadata": {},
   "outputs": [],
   "source": [
    "# 获得 logit 的权重\n",
    "logits_weight = reader.get_tensor(\"logits/weights\")\n",
    "logits_bias = reader.get_tensor(\"logits/biases\")"
   ]
  },
  {
   "cell_type": "markdown",
   "metadata": {},
   "source": [
    "# 6. 将剪枝后的模型 图 与 权重打包为 pb 文件"
   ]
  },
  {
   "cell_type": "code",
   "execution_count": 120,
   "metadata": {},
   "outputs": [],
   "source": [
    "channel_dict = {'conv1': pure_conv1_weight.shape[-1], 'conv2': pure_conv2_weight.shape[-1],\n",
    "               'conv3':pure_conv3_weight.shape[-1], 'fc1': pure_fc1_weight.shape[-1], \n",
    "               'fc2': fc2_weight.shape[-1], 'logits': logits_weight.shape[-1]}"
   ]
  },
  {
   "cell_type": "code",
   "execution_count": 149,
   "metadata": {},
   "outputs": [],
   "source": [
    "pure_weights = {'conv1/weights': pure_conv1_weight, 'conv1/biases': pure_conv1_bias,\n",
    "               'conv2/weights': pure_conv2_weight, 'conv2/biases': pure_conv2_bias,\n",
    "               'conv3/weights': pure_conv3_weight, 'conv3/biases': pure_conv3_bias,\n",
    "               'fc1/weights': pure_fc1_weight, 'fc1/biases': pure_fc1_bias,\n",
    "               'fc2/weights': fc2_weight, 'fc2/biases': fc2_bias,\n",
    "               'logits/weights': logits_weight, 'logits/biases': logits_bias}"
   ]
  },
  {
   "cell_type": "code",
   "execution_count": 150,
   "metadata": {},
   "outputs": [],
   "source": [
    "all_data = {}\n",
    "all_data['channel_dict'] = channel_dict\n",
    "all_data['pure_weights'] = pure_weights"
   ]
  },
  {
   "cell_type": "code",
   "execution_count": 151,
   "metadata": {},
   "outputs": [],
   "source": [
    "with open('./pure_checkpoints/pure_1.pb', 'wb') as f:\n",
    "    pickle.dump(all_data, f)"
   ]
  },
  {
   "cell_type": "code",
   "execution_count": 152,
   "metadata": {},
   "outputs": [],
   "source": [
    "with open('./pure_checkpoints/pure_1.pb', 'rb') as f:\n",
    "    load = pickle.load(f)"
   ]
  },
  {
   "cell_type": "code",
   "execution_count": 153,
   "metadata": {},
   "outputs": [
    {
     "data": {
      "text/plain": [
       "{'conv1': 8, 'conv2': 16, 'conv3': 24, 'fc1': 32, 'fc2': 256, 'logits': 10}"
      ]
     },
     "execution_count": 153,
     "metadata": {},
     "output_type": "execute_result"
    }
   ],
   "source": [
    "load['channel_dict']"
   ]
  },
  {
   "cell_type": "code",
   "execution_count": 154,
   "metadata": {},
   "outputs": [
    {
     "data": {
      "text/plain": [
       "{'conv1/biases': array([ 0.00045041,  0.0262382 ,  0.0208248 , -0.00159773,  0.09998561,\n",
       "        -0.00079513,  0.00963001, -0.00306746], dtype=float32),\n",
       " 'conv1/weights': array([[[[ 6.3274127e-01,  2.5952822e-06,  3.1592351e-01,\n",
       "            1.5402968e-03,  2.4988001e-06,  1.2688795e-06,\n",
       "            1.3045588e+00, -1.0291224e-06]],\n",
       " \n",
       "         [[ 5.4130714e-02, -2.5132947e-06,  8.8990194e-01,\n",
       "            2.6030982e-01, -2.5798433e-06, -2.3896496e-07,\n",
       "            1.2344695e+00, -3.0663159e-08]],\n",
       " \n",
       "         [[ 3.9366769e-04,  2.3328214e-06,  9.3016773e-01,\n",
       "            8.1906325e-01, -2.9581986e-06,  2.1187432e-06,\n",
       "            3.0997133e-01,  2.9995022e-02]]],\n",
       " \n",
       " \n",
       "        [[[ 9.1211623e-01,  1.3319841e-06,  3.0893216e-01,\n",
       "            3.7858409e-01,  1.7236343e-06, -4.3532350e-07,\n",
       "            1.0387123e+00, -1.9107795e-06]],\n",
       " \n",
       "         [[ 1.0202506e+00,  1.6824222e-06,  7.1689355e-01,\n",
       "            9.6778357e-01,  8.1113262e-07,  8.4306294e-08,\n",
       "            9.9702322e-01, -7.5047205e-07]],\n",
       " \n",
       "         [[ 6.8486303e-01,  3.6266670e-07,  8.2751900e-01,\n",
       "            1.0040663e+00, -1.4252146e-07, -1.6175136e-08,\n",
       "            5.2546906e-01,  1.3499083e-01]]],\n",
       " \n",
       " \n",
       "        [[[ 1.0855672e+00,  1.4268708e-06, -6.0388597e-06,\n",
       "            1.2791942e-01,  1.7887430e-06,  2.7909732e-07,\n",
       "           -1.1377555e-03, -1.8583680e-06]],\n",
       " \n",
       "         [[ 1.4506130e+00,  1.1519171e-06, -1.4083180e-06,\n",
       "            9.6081603e-01,  2.5349914e-06, -3.0744263e-07,\n",
       "           -3.0597192e-05,  1.2308994e-01]],\n",
       " \n",
       "         [[ 1.1217839e+00,  6.6607231e-07,  1.0539991e-03,\n",
       "            1.0699786e+00, -9.1420588e-08,  2.8518637e-06,\n",
       "            2.1051029e-03,  1.2054460e-01]]]], dtype=float32),\n",
       " 'conv2/biases': array([-0.09783957, -0.04131799, -0.02566011, -0.06543457,  0.06472238,\n",
       "        -0.00545198, -0.00474992, -0.02188597, -0.11222503, -0.006201  ,\n",
       "        -0.0155636 ,  0.13311498, -0.00833193, -0.02097046,  0.02653153,\n",
       "        -0.00043905], dtype=float32),\n",
       " 'conv2/weights': array([[[[-5.00096321e-01, -1.76965614e-07, -3.08374842e-06, ...,\n",
       "           -8.15541625e-08, -2.65093149e-06, -1.72762680e-06],\n",
       "          [ 1.49212610e-06,  3.60562353e-08,  4.83722260e-07, ...,\n",
       "            1.61139724e-09,  1.61164280e-07,  2.13289923e-07],\n",
       "          [-2.33699694e-01, -3.23514769e-07, -1.68411361e-07, ...,\n",
       "            7.65455525e-07,  2.16156536e-06, -2.04978346e-06],\n",
       "          ...,\n",
       "          [-2.65083486e-06,  2.26458064e-06, -8.03621560e-07, ...,\n",
       "            2.20102493e-07,  3.32800028e-08,  1.88190302e-06],\n",
       "          [-2.01919049e-01, -1.92721700e-07, -1.42465524e-08, ...,\n",
       "            5.99068244e-08,  1.19965762e-07,  3.72203885e-08],\n",
       "          [ 6.38831671e-06,  2.66199777e-07,  2.93223366e-08, ...,\n",
       "           -1.43683860e-06, -4.08251253e-07, -2.49958703e-08]],\n",
       " \n",
       "         [[-1.22943032e-03,  1.97157760e-07,  1.85456202e-07, ...,\n",
       "            8.65604761e-08,  3.09784491e-06, -5.69667691e-07],\n",
       "          [ 5.22915116e-07, -1.90982996e-06,  3.09683151e-06, ...,\n",
       "           -1.02180593e-07,  1.49575726e-07, -1.61768799e-06],\n",
       "          [-2.15962622e-03, -1.39599183e-06,  7.70799033e-08, ...,\n",
       "           -5.44234808e-08, -8.75557816e-07,  2.29903185e-06],\n",
       "          ...,\n",
       "          [-1.41857777e-06, -1.67502776e-07,  8.08174718e-08, ...,\n",
       "           -4.81600182e-09, -2.54226507e-09,  2.42466513e-07],\n",
       "          [-3.19987023e-03, -2.64324331e-06,  1.23189716e-06, ...,\n",
       "            2.21653067e-06, -6.26887868e-07,  2.61118203e-08],\n",
       "          [ 3.86743250e-06,  2.92951859e-06, -3.07197070e-07, ...,\n",
       "            2.15886075e-07, -5.01951490e-07, -3.10278892e-07]],\n",
       " \n",
       "         [[ 1.77208513e-01, -2.45745241e-07,  2.17837965e-06, ...,\n",
       "           -1.21633548e-08,  2.85622582e-06, -1.47122068e-06],\n",
       "          [ 2.47466755e-06,  2.45376896e-07, -3.01790806e-08, ...,\n",
       "            1.49350399e-08, -2.58026375e-07,  8.22999482e-08],\n",
       "          [ 1.92922980e-01, -5.09987558e-07, -1.18676553e-07, ...,\n",
       "            1.86169700e-07, -1.94330300e-06,  2.92124992e-06],\n",
       "          ...,\n",
       "          [ 3.03081174e-06, -1.72289447e-07,  4.14404440e-08, ...,\n",
       "           -2.39394308e-06,  3.08528570e-07,  3.39254939e-07],\n",
       "          [ 4.68922645e-01,  7.90049171e-07, -3.05324193e-08, ...,\n",
       "           -2.02919637e-08,  1.69867781e-06, -3.10026962e-07],\n",
       "          [ 1.61799153e-06, -2.24324299e-06,  1.07843107e-07, ...,\n",
       "           -2.88712272e-08, -2.90209505e-06,  8.82415634e-07]]],\n",
       " \n",
       " \n",
       "        [[[-4.22033072e-01, -2.11151246e-07,  8.52226094e-08, ...,\n",
       "            3.23272843e-07, -2.68561735e-07, -3.43640068e-07],\n",
       "          [ 2.47705748e-06, -2.20130232e-07, -2.61992000e-07, ...,\n",
       "            2.41428779e-07,  1.53432075e-06, -2.55909299e-07],\n",
       "          [-1.05089001e-01,  1.54088866e-08, -2.17964271e-07, ...,\n",
       "            2.09436394e-07,  1.75408468e-06, -2.62936123e-06],\n",
       "          ...,\n",
       "          [-1.89285242e-06, -7.36097491e-07,  1.29698719e-07, ...,\n",
       "           -2.65698191e-07, -9.43593932e-08, -2.87926127e-06],\n",
       "          [-3.86604279e-01, -6.45447926e-08,  3.23229187e-07, ...,\n",
       "            1.09410371e-06,  2.26580755e-06, -3.17922741e-07],\n",
       "          [ 1.06450307e-06,  1.08584231e-06,  5.31492788e-08, ...,\n",
       "            9.12357336e-08, -1.28243073e-06,  2.97508223e-07]],\n",
       " \n",
       "         [[ 1.62134349e-01,  3.38018026e-07, -2.99486373e-07, ...,\n",
       "            1.81939936e-06, -5.54303369e-07, -2.10868848e-07],\n",
       "          [ 3.27372800e-06, -3.06537027e-06,  3.16474598e-08, ...,\n",
       "           -1.52929010e-06,  1.62700417e-07, -2.95140808e-07],\n",
       "          [ 3.23240757e-01,  2.45310503e-07,  1.82080157e-07, ...,\n",
       "           -3.30295961e-07, -2.85612259e-07,  3.28313263e-07],\n",
       "          ...,\n",
       "          [-2.49088157e-06, -2.77229060e-06, -1.14674299e-06, ...,\n",
       "            3.23797167e-07, -2.26344355e-07,  4.75934257e-07],\n",
       "          [ 1.98840769e-03, -3.19036417e-07, -1.39564236e-08, ...,\n",
       "            2.12215355e-07,  1.69416603e-06,  2.50352741e-07],\n",
       "          [-7.95812230e-06,  2.37877589e-06,  2.25848680e-07, ...,\n",
       "           -1.92410198e-07,  2.00450654e-06, -3.40920224e-07]],\n",
       " \n",
       "         [[ 7.19573945e-02,  1.89386787e-06, -3.06675474e-07, ...,\n",
       "            2.02431011e-07,  1.08128233e-06,  1.14357590e-08],\n",
       "          [-1.41058092e-06, -6.67128234e-07,  2.70936448e-06, ...,\n",
       "           -1.86258831e-07, -1.72985892e-07, -9.08764832e-08],\n",
       "          [-6.80706755e-04, -3.40338602e-07,  1.15219768e-06, ...,\n",
       "            6.15796125e-09,  2.76108949e-07, -3.09908273e-07],\n",
       "          ...,\n",
       "          [-2.99165777e-07, -7.03079195e-07,  3.29452860e-07, ...,\n",
       "           -3.13981900e-07,  8.16026159e-07, -7.53759650e-08],\n",
       "          [ 3.14624429e-01,  2.12059399e-06, -2.71134263e-06, ...,\n",
       "            4.33867626e-08,  1.07671895e-06,  1.78022219e-08],\n",
       "          [-2.24380528e-06,  1.55290536e-07,  2.05969422e-06, ...,\n",
       "            2.92012396e-06, -1.55723001e-06, -1.94584777e-06]]],\n",
       " \n",
       " \n",
       "        [[[-7.35864451e-04, -3.11977374e-07,  6.82916834e-09, ...,\n",
       "           -1.26631016e-06,  5.43476972e-07, -1.07886922e-06],\n",
       "          [-9.24535584e-07,  5.95946403e-10, -1.16309138e-07, ...,\n",
       "            2.39300311e-06, -7.69030066e-08, -8.56500719e-08],\n",
       "          [-3.25589033e-04,  2.81693019e-07, -6.15531235e-07, ...,\n",
       "            1.53194151e-07,  1.30034027e-06,  2.69511247e-07],\n",
       "          ...,\n",
       "          [ 2.45546312e-06,  2.86814407e-06, -2.44055400e-07, ...,\n",
       "           -1.08948598e-07,  9.14439852e-07,  2.68954182e-07],\n",
       "          [-1.26584485e-01, -1.76759613e-07,  8.25136794e-08, ...,\n",
       "           -1.21125936e-06,  2.50441531e-06,  3.38381369e-07],\n",
       "          [-1.66699865e-05,  2.57104080e-06, -1.07870392e-07, ...,\n",
       "            6.84883389e-07, -7.06139872e-07,  2.75948446e-06]],\n",
       " \n",
       "         [[ 2.69688904e-01, -1.49532298e-08, -2.05370497e-07, ...,\n",
       "           -2.01334365e-06, -1.39418603e-06, -7.19182935e-10],\n",
       "          [-2.46594323e-06, -3.73239573e-07,  4.15207751e-07, ...,\n",
       "           -1.75919240e-07, -7.72571866e-07, -3.64684638e-09],\n",
       "          [ 2.24269554e-01,  2.88288197e-06, -4.89792455e-08, ...,\n",
       "            6.71036560e-08, -1.31356251e-06,  3.53600399e-07],\n",
       "          ...,\n",
       "          [ 2.94945562e-06,  6.52539711e-09, -2.62696176e-08, ...,\n",
       "            2.20625338e-06,  8.82871518e-08, -5.70632892e-08],\n",
       "          [ 6.00168481e-03,  3.08341441e-09, -2.54472684e-06, ...,\n",
       "           -2.90424396e-09, -2.30746991e-06,  3.29484919e-08],\n",
       "          [-5.14738240e-05, -1.10155725e-08,  2.40072495e-08, ...,\n",
       "            1.65989604e-08, -2.02584010e-06,  2.34913364e-06]],\n",
       " \n",
       "         [[-2.33221799e-03, -1.29223508e-07, -1.23118070e-07, ...,\n",
       "           -1.69384634e-06,  2.69144175e-06,  3.40567112e-08],\n",
       "          [ 2.24918699e-06,  3.02101625e-07,  3.08667268e-07, ...,\n",
       "           -1.99141368e-07, -3.16558726e-07,  3.04875289e-06],\n",
       "          [-8.06279189e-04,  9.87090289e-07,  4.64571485e-07, ...,\n",
       "            1.04185779e-06, -6.30905106e-07,  3.07194227e-06],\n",
       "          ...,\n",
       "          [-1.42891463e-06,  1.48843469e-06,  1.01134674e-07, ...,\n",
       "           -8.21604544e-07,  2.20867832e-07,  2.08021902e-08],\n",
       "          [ 1.10661253e-01, -2.32402340e-06, -1.86608918e-06, ...,\n",
       "           -3.93631581e-08, -3.85899511e-07,  3.07826895e-07],\n",
       "          [-2.14744941e-05, -7.09220558e-07, -1.04096443e-07, ...,\n",
       "           -2.51223582e-07, -9.11089046e-07, -2.09817995e-06]]]],\n",
       "       dtype=float32),\n",
       " 'conv3/biases': array([-0.01627444,  0.00682878, -0.1715058 , -0.03838071, -0.0669011 ,\n",
       "        -0.08104476,  0.01727855, -0.08151158, -0.07405551, -0.0405109 ,\n",
       "        -0.05420913, -0.06136179, -0.07107263, -0.10885695, -0.00152763,\n",
       "        -0.11885452, -0.07630014, -0.06948757, -0.04368662, -0.03982251,\n",
       "        -0.09128781, -0.07677395, -0.04346057,  0.006544  ], dtype=float32),\n",
       " 'conv3/weights': array([[[[ 1.43516064e-03,  3.63307208e-07,  6.61861598e-02, ...,\n",
       "            1.80280775e-01, -3.70396115e-02, -2.96252097e-06],\n",
       "          [ 2.16188960e-06,  1.80876646e-06, -1.47433411e-07, ...,\n",
       "            2.11522615e-06, -3.42832891e-07,  2.29487500e-06],\n",
       "          [ 1.03077809e-07, -3.16872729e-07, -1.86066404e-06, ...,\n",
       "           -3.96539917e-07, -8.28905058e-07,  2.06867867e-06],\n",
       "          ...,\n",
       "          [ 1.53967676e-07,  8.40103212e-07,  6.38198571e-07, ...,\n",
       "            1.43261559e-07, -3.21986818e-07,  1.89665343e-07],\n",
       "          [-1.00294096e-06, -3.71536999e-07,  8.01409669e-07, ...,\n",
       "            7.25086011e-07,  1.62350170e-06, -1.67063035e-07],\n",
       "          [ 3.32732952e-07, -3.25901510e-08,  2.95645145e-06, ...,\n",
       "           -1.93670303e-07, -1.20050800e-07,  5.89045612e-08]],\n",
       " \n",
       "         [[-1.97076559e-04, -4.77617959e-07, -2.22043663e-01, ...,\n",
       "           -4.64388542e-03,  5.97029211e-05, -2.90701223e-06],\n",
       "          [ 1.34597713e-07,  3.08926474e-07, -1.91745812e-07, ...,\n",
       "            1.43995067e-07,  3.09121992e-06, -1.52888219e-06],\n",
       "          [ 2.28682666e-07,  6.97930545e-07, -2.81504526e-08, ...,\n",
       "           -1.67376356e-07, -5.64217999e-07,  7.15602482e-07],\n",
       "          ...,\n",
       "          [-2.03992840e-08, -3.46337856e-08,  1.39642111e-06, ...,\n",
       "           -6.60099886e-08,  2.22030167e-07, -2.54794600e-06],\n",
       "          [ 1.55862995e-06,  7.91953880e-08, -1.28135309e-06, ...,\n",
       "            1.27791532e-06, -2.80672475e-06,  2.18561581e-07],\n",
       "          [ 1.76650019e-07,  1.82980216e-06, -1.28769216e-07, ...,\n",
       "           -7.55713472e-07, -3.38845666e-07,  1.77174343e-07]],\n",
       " \n",
       "         [[-5.71674202e-03,  5.75133754e-07, -1.21489875e-01, ...,\n",
       "           -2.54774708e-02, -4.10359446e-03,  6.00008434e-07],\n",
       "          [ 1.30411649e-06, -1.55736939e-06, -1.92059065e-06, ...,\n",
       "           -9.68326503e-07,  1.16694468e-06,  1.37645861e-06],\n",
       "          [ 3.09389407e-07, -1.02559852e-07,  2.07375956e-06, ...,\n",
       "           -3.28012675e-07, -2.08002325e-06, -2.64197524e-07],\n",
       "          ...,\n",
       "          [-1.52070720e-06,  3.14083309e-07,  3.20879963e-07, ...,\n",
       "            2.08571464e-07, -1.76257799e-08, -2.15581599e-06],\n",
       "          [ 2.43318959e-06, -2.81610187e-06, -2.71161912e-06, ...,\n",
       "           -1.84272949e-07,  6.89057742e-07,  1.73250783e-07],\n",
       "          [-4.34896037e-07, -2.98816758e-08, -2.89046284e-07, ...,\n",
       "           -2.94411916e-06, -2.00539193e-06, -2.19664548e-06]]],\n",
       " \n",
       " \n",
       "        [[[ 4.86610079e-04, -2.02034471e-06,  1.17825763e-02, ...,\n",
       "            5.14177084e-01, -1.25617804e-02, -2.36658389e-06],\n",
       "          [ 2.37271252e-08, -1.32769628e-07,  2.79427013e-07, ...,\n",
       "            2.37473841e-07, -1.94759900e-06, -1.88244940e-08],\n",
       "          [ 2.61604760e-06, -1.69333589e-07, -2.65920630e-06, ...,\n",
       "            2.30502405e-06, -7.41649728e-08,  3.20479330e-07],\n",
       "          ...,\n",
       "          [ 6.46548415e-08,  9.72838734e-08,  4.15025170e-09, ...,\n",
       "            6.68319444e-09, -2.07032031e-06, -3.35031245e-07],\n",
       "          [ 1.72061641e-06,  5.41763256e-09,  1.86337616e-06, ...,\n",
       "           -1.95609255e-06,  2.05795436e-06, -2.77880804e-06],\n",
       "          [-2.61831860e-06, -2.97237193e-07,  4.31850822e-09, ...,\n",
       "            1.63870709e-07, -2.16394028e-07, -3.40154429e-07]],\n",
       " \n",
       "         [[ 1.20710498e-02, -3.52675443e-07,  1.03482818e-02, ...,\n",
       "            1.17614551e-03,  5.44870563e-04, -2.06602226e-06],\n",
       "          [ 2.91333185e-06, -1.87196065e-07, -1.48856657e-06, ...,\n",
       "           -3.76487606e-08,  1.83498514e-07,  1.29953537e-06],\n",
       "          [ 1.92954690e-06, -1.44276100e-07,  1.33254389e-07, ...,\n",
       "            2.26228326e-06,  2.40872464e-06, -2.58854243e-07],\n",
       "          ...,\n",
       "          [-3.23974518e-07,  3.08710014e-07,  1.10437418e-06, ...,\n",
       "           -4.53178473e-09,  1.52650387e-06,  1.00338934e-06],\n",
       "          [-2.28537601e-07,  2.73932983e-08,  2.68708163e-07, ...,\n",
       "           -1.88187869e-06,  3.17602689e-06, -8.84166411e-07],\n",
       "          [ 1.81579935e-07,  1.45704348e-06, -4.51907681e-07, ...,\n",
       "            8.99797442e-07,  2.54327233e-07,  1.56350711e-06]],\n",
       " \n",
       "         [[ 1.19315472e-03, -8.25966708e-08,  9.91782080e-03, ...,\n",
       "           -8.76232684e-02, -3.13423970e-03, -2.13378439e-06],\n",
       "          [-1.64654170e-06,  3.07570645e-08,  5.55860424e-09, ...,\n",
       "           -3.06615675e-08,  3.02904732e-06, -3.40021188e-07],\n",
       "          [-2.97381871e-06, -6.99849352e-08, -2.55494183e-06, ...,\n",
       "           -2.27075589e-07, -1.97970394e-07,  2.47498997e-06],\n",
       "          ...,\n",
       "          [-1.02563945e-07,  1.26693089e-06, -2.04291223e-06, ...,\n",
       "           -1.33035178e-06,  1.62953938e-07,  2.15232444e-06],\n",
       "          [-1.84895316e-06,  2.95101472e-08,  9.86092800e-07, ...,\n",
       "            3.02498620e-07,  2.76005312e-06,  2.75986167e-07],\n",
       "          [-1.01639830e-06,  1.79613176e-06,  1.07450819e-06, ...,\n",
       "            2.51734718e-07, -2.62396975e-06, -1.86706302e-07]]],\n",
       " \n",
       " \n",
       "        [[[-9.87324398e-03,  9.15065584e-07,  3.28901075e-02, ...,\n",
       "            5.98807004e-04,  5.62671456e-04,  2.00082991e-06],\n",
       "          [ 1.93731239e-07,  2.22117092e-06,  1.18967137e-07, ...,\n",
       "           -8.18811486e-07,  4.39945325e-09,  3.32726131e-07],\n",
       "          [-1.45710374e-07,  1.43324996e-08, -3.82429107e-07, ...,\n",
       "           -2.60038610e-06, -3.37667416e-07, -1.23064251e-06],\n",
       "          ...,\n",
       "          [ 8.42778491e-07,  1.56498731e-06,  4.23117399e-08, ...,\n",
       "           -3.35444383e-09,  3.10993300e-07,  1.93829351e-06],\n",
       "          [ 1.47469177e-06,  2.24390487e-06,  6.30145678e-07, ...,\n",
       "           -1.12941871e-06, -1.64553217e-06,  3.04626724e-06],\n",
       "          [ 5.21180709e-07,  1.73437229e-07,  2.85435249e-06, ...,\n",
       "            1.90013679e-07, -1.88379340e-06,  2.45238175e-06]],\n",
       " \n",
       "         [[ 3.67519148e-02, -1.64652192e-07,  7.65863759e-03, ...,\n",
       "           -3.55061918e-01, -3.89858591e-03, -7.35056346e-07],\n",
       "          [ 1.62517722e-06,  2.24628161e-06,  2.71328418e-07, ...,\n",
       "            3.28885335e-07, -1.23031896e-09,  2.61088439e-06],\n",
       "          [-1.82384838e-07, -2.35908146e-07,  3.08894391e-06, ...,\n",
       "           -8.64044978e-08,  2.07199946e-07, -3.19189667e-07],\n",
       "          ...,\n",
       "          [-2.83964937e-07,  1.29435443e-06,  3.64250354e-08, ...,\n",
       "           -2.63381594e-06,  2.77782419e-09,  7.75730769e-09],\n",
       "          [ 9.64708306e-07, -3.00452757e-06, -2.09211294e-06, ...,\n",
       "           -1.45024114e-06, -6.02265345e-07,  2.89791478e-06],\n",
       "          [ 2.45122033e-06, -2.73324645e-06,  3.25650262e-07, ...,\n",
       "           -1.83984571e-06,  1.96296719e-06, -6.20879064e-07]],\n",
       " \n",
       "         [[ 6.18469343e-03, -1.85546810e-06,  1.20965787e-03, ...,\n",
       "           -2.78052390e-02, -8.13270174e-03,  1.42204681e-06],\n",
       "          [ 1.12823955e-07,  2.51096708e-07,  2.09411223e-06, ...,\n",
       "           -1.69886630e-06, -1.98583848e-07, -4.37937615e-08],\n",
       "          [ 2.63022457e-07,  2.69913699e-07, -1.42297063e-06, ...,\n",
       "           -3.80530309e-08, -6.02249429e-07,  1.67059397e-07],\n",
       "          ...,\n",
       "          [-2.69610382e-07,  1.37422376e-08, -6.07838047e-09, ...,\n",
       "            1.56744113e-06,  4.45564865e-07,  2.00985937e-06],\n",
       "          [-1.10201995e-06, -8.00014050e-07,  1.80840902e-06, ...,\n",
       "            5.60328090e-07, -1.18659932e-06, -5.55753559e-08],\n",
       "          [ 2.21965752e-06,  2.08928691e-06,  1.44814862e-06, ...,\n",
       "           -3.22070491e-07,  3.08820518e-07, -1.22851588e-07]]]],\n",
       "       dtype=float32),\n",
       " 'fc1/biases': array([ 0.06933335,  0.02037769,  0.01464757,  0.02116067,  0.04195461,\n",
       "         0.0135808 ,  0.01923977,  0.02196406,  0.04413285, -0.01887337,\n",
       "         0.03099032,  0.01619267,  0.07307059,  0.01455008,  0.03278447,\n",
       "        -0.00492902,  0.00954247,  0.04990456,  0.07606847,  0.01742192,\n",
       "        -0.01366234,  0.03869563,  0.0078333 , -0.01284413,  0.02595759,\n",
       "         0.10285708,  0.03164362, -0.03349329,  0.05203463,  0.0077379 ,\n",
       "         0.02752118,  0.02503087], dtype=float32),\n",
       " 'fc1/weights': array([[-3.6509437e-07, -1.7185414e-06, -2.8130198e-06, ...,\n",
       "          1.8988021e-06,  2.4078695e-06,  8.3450732e-07],\n",
       "        [ 5.7324019e-07, -9.3648760e-07,  1.5805258e-06, ...,\n",
       "         -3.3816264e-07, -6.3483867e-08, -1.0643657e-07],\n",
       "        [-2.1357600e-06,  1.6148060e-06,  1.2967241e-06, ...,\n",
       "          2.8035756e-06,  1.2356259e-07,  1.4240754e-07],\n",
       "        ...,\n",
       "        [ 2.6128064e-06, -2.5757715e-06, -2.1974893e-07, ...,\n",
       "         -7.1834029e-07, -2.0314744e-06, -2.6600089e-06],\n",
       "        [ 2.8678301e-06, -4.0694204e-07, -2.5599320e-08, ...,\n",
       "          1.4127395e-06,  1.7400998e-07, -2.8208137e-07],\n",
       "        [-1.2246237e-06, -2.1723010e-06, -2.8357781e-06, ...,\n",
       "         -4.8964671e-07, -2.5893860e-07,  8.6185992e-08]], dtype=float32),\n",
       " 'fc2/biases': array([ 2.49735322e-02,  1.28596071e-02,  3.28968912e-02,  1.52866021e-04,\n",
       "        -3.58919352e-02, -1.58246420e-02, -2.37073805e-02,  2.89803501e-02,\n",
       "        -7.17710555e-02,  3.36917341e-02,  6.47758394e-02, -3.14315259e-02,\n",
       "         2.02080291e-02,  1.03057191e-01, -5.86635657e-02,  7.46231601e-02,\n",
       "        -1.96835529e-02,  1.37207538e-01, -1.49301253e-02,  2.68145446e-02,\n",
       "        -3.42733227e-02,  1.12675261e-02,  1.42312199e-02,  2.46104207e-02,\n",
       "         1.49359591e-02, -2.46737599e-02, -1.26378622e-03,  5.38771078e-02,\n",
       "        -9.77997947e-03,  1.42367512e-01,  3.00891530e-02,  9.59403515e-02,\n",
       "         6.00694455e-02,  9.03067216e-02, -5.13185374e-02, -4.01663184e-02,\n",
       "         3.66513468e-02, -4.20089019e-03, -9.79498960e-03, -1.76592860e-02,\n",
       "         4.67703305e-02, -2.29276214e-02, -2.87238900e-02, -6.44100830e-02,\n",
       "        -1.22706937e-02, -1.60147455e-02,  2.48585735e-02, -3.50561775e-02,\n",
       "         2.99226977e-02,  4.48183119e-02,  1.00494005e-01, -8.97211954e-03,\n",
       "         5.01343533e-02,  1.03578284e-01,  2.72025261e-03, -2.81343218e-02,\n",
       "        -2.60353368e-02,  8.54823589e-02,  2.57787667e-02,  1.11757912e-01,\n",
       "         2.61919759e-02, -4.91975918e-02,  1.57486089e-02,  4.44595590e-02,\n",
       "         6.44668266e-02, -8.14704876e-03,  1.25508070e-01,  1.19869925e-01,\n",
       "         2.26227730e-03,  3.51694264e-02, -1.72447301e-02,  5.48147112e-02,\n",
       "         7.98181146e-02,  1.23778783e-01, -4.10759114e-02, -1.64030921e-02,\n",
       "        -7.68788578e-03, -2.96521317e-02,  1.32178813e-01, -2.89536361e-03,\n",
       "         3.36291939e-02, -1.66160557e-02,  6.42214790e-02, -1.66785251e-02,\n",
       "         3.51162106e-02, -7.16947252e-03,  7.94124417e-03,  4.01171064e-03,\n",
       "         8.96402169e-03,  1.25175565e-01,  1.54267803e-01, -2.26365179e-02,\n",
       "        -3.69287506e-02, -6.44243089e-03, -1.00564077e-01,  5.39285727e-02,\n",
       "         1.45419851e-01, -1.24030253e-02, -6.84141088e-03, -2.90141255e-02,\n",
       "         9.41962153e-02,  1.20497718e-01,  1.03065884e-03,  3.78309451e-02,\n",
       "        -3.93652637e-03, -1.12853115e-02,  1.35503514e-02, -3.44080441e-02,\n",
       "        -6.36172891e-02,  7.24226609e-02,  1.06323309e-01,  3.86825912e-02,\n",
       "         4.50431602e-03, -6.31817733e-04, -7.13042393e-02,  3.29840300e-03,\n",
       "        -1.50033738e-02, -2.14202283e-03,  1.09662324e-01,  3.66487615e-02,\n",
       "         3.04930075e-03,  4.13031727e-02, -6.04215488e-02, -5.33661223e-04,\n",
       "        -2.17532869e-02, -2.29983032e-02, -1.29801240e-02, -6.18734844e-02,\n",
       "         1.71798375e-02,  2.39305827e-03,  5.71876206e-02, -1.62717756e-02,\n",
       "         2.89768092e-02, -2.05157530e-02,  2.55361572e-02, -2.01082206e-03,\n",
       "         6.33711534e-05,  5.83305545e-02,  2.70486511e-02,  2.81079542e-02,\n",
       "         5.70179746e-02, -4.89865951e-02,  3.86594981e-02,  4.65643301e-04,\n",
       "         1.19834311e-01,  1.85147151e-02,  1.68401808e-01,  7.42076039e-02,\n",
       "        -1.05963312e-02,  4.23080623e-02, -2.93501504e-02,  4.12624478e-02,\n",
       "        -3.12540270e-02,  4.70968634e-02,  1.02207854e-01, -3.30266729e-02,\n",
       "         5.74352685e-03, -6.24324894e-04,  5.52650429e-02,  4.98415194e-02,\n",
       "         4.53362986e-02,  5.12798131e-02, -2.77982764e-02, -1.68160498e-02,\n",
       "         1.51103660e-02,  1.53106213e-01, -1.52694164e-02, -1.68330944e-03,\n",
       "        -8.46227631e-03, -4.93477704e-03, -2.52941400e-02, -5.87363057e-02,\n",
       "         1.28107980e-01, -5.46735618e-03, -4.19260748e-02, -3.44687924e-02,\n",
       "        -3.16883177e-02, -2.09908411e-02,  4.65992987e-02,  8.13970491e-02,\n",
       "         9.38892663e-02,  9.68578309e-02,  2.38144808e-02, -2.20356155e-02,\n",
       "         9.58656054e-03,  4.77022417e-02,  5.61474375e-02,  9.38794203e-03,\n",
       "         3.28031220e-02,  3.58476713e-02,  3.56346443e-02,  6.88938648e-02,\n",
       "        -1.99731924e-02, -4.27303724e-02, -1.99626163e-02, -2.02736072e-02,\n",
       "        -7.69381085e-03,  9.38635916e-02,  4.60381508e-02, -1.29697658e-02,\n",
       "         3.95037793e-02,  2.46307906e-02,  8.42085034e-02,  8.51672981e-03,\n",
       "        -3.68685350e-02, -7.53638847e-03,  5.73536791e-02, -2.43602544e-02,\n",
       "         4.05561700e-02,  3.37499985e-03, -1.71976779e-02, -3.20629813e-02,\n",
       "         9.46774036e-02,  2.07440723e-02, -9.25159920e-03, -3.84504460e-02,\n",
       "        -2.09004292e-03, -1.88065581e-02, -1.18937669e-02, -3.13829929e-02,\n",
       "         3.68335694e-02, -4.22783159e-02,  5.54361418e-02,  4.25765067e-02,\n",
       "        -5.09655811e-02,  1.19576398e-02, -2.38836892e-02,  7.24346712e-02,\n",
       "         1.82744246e-02,  3.31057273e-02,  9.41527635e-02, -9.23645930e-05,\n",
       "         1.43775165e-01, -2.48450898e-02,  3.24705280e-02,  3.73750627e-02,\n",
       "        -1.23643270e-03,  1.51482224e-02, -2.71966346e-02, -2.85618473e-02,\n",
       "        -9.28203762e-03,  2.01583263e-02,  9.70763341e-02, -4.07228805e-03,\n",
       "         2.20101350e-03, -2.89027556e-03, -4.76192795e-02,  4.05110931e-03,\n",
       "        -1.14833459e-03,  6.17602840e-03,  7.06569850e-02, -7.33309099e-03,\n",
       "        -4.88409121e-03,  6.74610659e-02, -2.32204925e-02, -7.66457021e-02],\n",
       "       dtype=float32),\n",
       " 'fc2/weights': array([[ 1.7625831e-04, -1.7181491e-04,  2.5668615e-02, ...,\n",
       "          1.5506562e-04, -1.3819101e-03, -5.3208077e-04],\n",
       "        [-3.2224238e-03, -3.4248899e-03, -3.6587657e-03, ...,\n",
       "          3.5583659e-03,  3.4917749e-02, -1.5391485e-03],\n",
       "        [ 4.7337681e-02,  6.9000192e-02,  3.3256190e-04, ...,\n",
       "          4.8486665e-03,  1.2248531e-02, -9.5308274e-03],\n",
       "        ...,\n",
       "        [-9.9988938e-08,  1.3326603e-06,  6.7668043e-07, ...,\n",
       "          4.5747129e-07,  1.7364064e-06,  2.4733658e-06],\n",
       "        [-3.5752919e-08,  1.1694015e-06,  2.0907617e-06, ...,\n",
       "          3.6905612e-07, -2.0476486e-06,  1.8915489e-06],\n",
       "        [ 3.0056697e-06, -1.1965540e-08, -2.2831341e-07, ...,\n",
       "         -5.0208109e-07, -1.6598960e-07,  2.8783443e-06]], dtype=float32),\n",
       " 'logits/biases': array([ 0.1283603 ,  0.31123358,  0.10493277,  0.14848568, -0.0214363 ,\n",
       "         0.01074045, -0.13769564,  0.02729886,  0.39164755,  0.17099471],\n",
       "       dtype=float32),\n",
       " 'logits/weights': array([[-0.13015063,  0.31020576,  0.15396675, ...,  0.22450246,\n",
       "         -0.15549797, -0.11978946],\n",
       "        [-0.10416765,  0.01169127,  0.25072393, ...,  0.2286069 ,\n",
       "         -0.18364188,  0.10587546],\n",
       "        [-0.02845313, -0.20117968, -0.11891718, ..., -0.08690058,\n",
       "          0.18848164,  0.20696272],\n",
       "        ...,\n",
       "        [ 0.26572257, -0.14496607,  0.28307995, ..., -0.09863958,\n",
       "          0.31471458, -0.14242448],\n",
       "        [ 0.2836037 , -0.21143702,  0.12025562, ...,  0.2362627 ,\n",
       "         -0.10603182, -0.15639791],\n",
       "        [ 0.04134567, -0.04654762, -0.02218946, ..., -0.1871393 ,\n",
       "         -0.02981404, -0.12691677]], dtype=float32)}"
      ]
     },
     "execution_count": 154,
     "metadata": {},
     "output_type": "execute_result"
    }
   ],
   "source": [
    "load['pure_weights']"
   ]
  },
  {
   "cell_type": "code",
   "execution_count": null,
   "metadata": {},
   "outputs": [],
   "source": []
  },
  {
   "cell_type": "code",
   "execution_count": null,
   "metadata": {},
   "outputs": [],
   "source": []
  },
  {
   "cell_type": "code",
   "execution_count": null,
   "metadata": {},
   "outputs": [],
   "source": []
  },
  {
   "cell_type": "code",
   "execution_count": null,
   "metadata": {},
   "outputs": [],
   "source": []
  },
  {
   "cell_type": "code",
   "execution_count": null,
   "metadata": {},
   "outputs": [],
   "source": []
  }
 ],
 "metadata": {
  "kernelspec": {
   "display_name": "Python 3",
   "language": "python",
   "name": "python3"
  },
  "language_info": {
   "codemirror_mode": {
    "name": "ipython",
    "version": 3
   },
   "file_extension": ".py",
   "mimetype": "text/x-python",
   "name": "python",
   "nbconvert_exporter": "python",
   "pygments_lexer": "ipython3",
   "version": "3.6.4"
  }
 },
 "nbformat": 4,
 "nbformat_minor": 2
}
