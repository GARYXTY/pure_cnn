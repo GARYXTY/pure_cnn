{
 "cells": [
  {
   "cell_type": "code",
   "execution_count": 1,
   "metadata": {},
   "outputs": [
    {
     "name": "stderr",
     "output_type": "stream",
     "text": [
      "/home/holaverse/anaconda3/lib/python3.6/site-packages/h5py/__init__.py:36: FutureWarning: Conversion of the second argument of issubdtype from `float` to `np.floating` is deprecated. In future, it will be treated as `np.float64 == np.dtype(float).type`.\n",
      "  from ._conv import register_converters as _register_converters\n"
     ]
    }
   ],
   "source": [
    "from config import cfg\n",
    "from dataset.dataset_reader import *\n",
    "from net.origin_net import Net"
   ]
  },
  {
   "cell_type": "code",
   "execution_count": 2,
   "metadata": {},
   "outputs": [
    {
     "name": "stdout",
     "output_type": "stream",
     "text": [
      "WARNING:tensorflow:From /home/holaverse/ideaProjects/pure_cnn/dataset/dataset_reader.py:10: string_input_producer (from tensorflow.python.training.input) is deprecated and will be removed in a future version.\n",
      "Instructions for updating:\n",
      "Queue-based input pipelines have been replaced by `tf.data`. Use `tf.data.Dataset.from_tensor_slices(string_tensor).shuffle(tf.shape(input_tensor, out_type=tf.int64)[0]).repeat(num_epochs)`. If `shuffle=False`, omit the `.shuffle(...)`.\n",
      "WARNING:tensorflow:From /home/holaverse/anaconda3/lib/python3.6/site-packages/tensorflow/python/training/input.py:276: input_producer (from tensorflow.python.training.input) is deprecated and will be removed in a future version.\n",
      "Instructions for updating:\n",
      "Queue-based input pipelines have been replaced by `tf.data`. Use `tf.data.Dataset.from_tensor_slices(input_tensor).shuffle(tf.shape(input_tensor, out_type=tf.int64)[0]).repeat(num_epochs)`. If `shuffle=False`, omit the `.shuffle(...)`.\n",
      "WARNING:tensorflow:From /home/holaverse/anaconda3/lib/python3.6/site-packages/tensorflow/python/training/input.py:188: limit_epochs (from tensorflow.python.training.input) is deprecated and will be removed in a future version.\n",
      "Instructions for updating:\n",
      "Queue-based input pipelines have been replaced by `tf.data`. Use `tf.data.Dataset.from_tensors(tensor).repeat(num_epochs)`.\n",
      "WARNING:tensorflow:From /home/holaverse/anaconda3/lib/python3.6/site-packages/tensorflow/python/training/input.py:197: QueueRunner.__init__ (from tensorflow.python.training.queue_runner_impl) is deprecated and will be removed in a future version.\n",
      "Instructions for updating:\n",
      "To construct input pipelines, use the `tf.data` module.\n",
      "WARNING:tensorflow:From /home/holaverse/anaconda3/lib/python3.6/site-packages/tensorflow/python/training/input.py:197: add_queue_runner (from tensorflow.python.training.queue_runner_impl) is deprecated and will be removed in a future version.\n",
      "Instructions for updating:\n",
      "To construct input pipelines, use the `tf.data` module.\n",
      "WARNING:tensorflow:From /home/holaverse/ideaProjects/pure_cnn/dataset/dataset_reader.py:11: TFRecordReader.__init__ (from tensorflow.python.ops.io_ops) is deprecated and will be removed in a future version.\n",
      "Instructions for updating:\n",
      "Queue-based input pipelines have been replaced by `tf.data`. Use `tf.data.TFRecordDataset`.\n",
      "WARNING:tensorflow:From <ipython-input-2-03c61e7c3c1a>:6: shuffle_batch (from tensorflow.python.training.input) is deprecated and will be removed in a future version.\n",
      "Instructions for updating:\n",
      "Queue-based input pipelines have been replaced by `tf.data`. Use `tf.data.Dataset.shuffle(min_after_dequeue).batch(batch_size)`.\n"
     ]
    }
   ],
   "source": [
    "train_tf_path = './tf_data/train_feature.tfrecords'\n",
    "image, label = read_features(train_tf_path, (28, 28, 1))\n",
    "\n",
    "images, labels = tf.train.shuffle_batch(\n",
    "    tensors=[image, label], batch_size=cfg.TRAIN.BATCH_SIZE,\n",
    "    capacity=100 + 2 * cfg.TRAIN.BATCH_SIZE, min_after_dequeue=100, num_threads=1)"
   ]
  },
  {
   "cell_type": "code",
   "execution_count": 3,
   "metadata": {},
   "outputs": [],
   "source": [
    "sess = tf.Session()\n",
    "sess.as_default()\n",
    "init_op = tf.global_variables_initializer()"
   ]
  },
  {
   "cell_type": "code",
   "execution_count": 4,
   "metadata": {},
   "outputs": [],
   "source": [
    "sess.run(init_op)"
   ]
  },
  {
   "cell_type": "code",
   "execution_count": 5,
   "metadata": {},
   "outputs": [
    {
     "name": "stdout",
     "output_type": "stream",
     "text": [
      "WARNING:tensorflow:From <ipython-input-5-4aa6eb357739>:3: start_queue_runners (from tensorflow.python.training.queue_runner_impl) is deprecated and will be removed in a future version.\n",
      "Instructions for updating:\n",
      "To construct input pipelines, use the `tf.data` module.\n"
     ]
    }
   ],
   "source": [
    "with sess.as_default():\n",
    "    coord = tf.train.Coordinator()\n",
    "    threads = tf.train.start_queue_runners(coord=coord)\n",
    "    example, l = sess.run([images, labels])"
   ]
  },
  {
   "cell_type": "code",
   "execution_count": 6,
   "metadata": {},
   "outputs": [
    {
     "data": {
      "text/plain": [
       "(8, 28, 28, 1)"
      ]
     },
     "execution_count": 6,
     "metadata": {},
     "output_type": "execute_result"
    }
   ],
   "source": [
    "example.shape"
   ]
  },
  {
   "cell_type": "code",
   "execution_count": 7,
   "metadata": {},
   "outputs": [],
   "source": [
    "net = Net()"
   ]
  },
  {
   "cell_type": "code",
   "execution_count": 8,
   "metadata": {},
   "outputs": [],
   "source": [
    "out = net.build_origin_net(1.0)\n",
    "saver, model_save_path = net.build_saver()"
   ]
  },
  {
   "cell_type": "code",
   "execution_count": 9,
   "metadata": {},
   "outputs": [
    {
     "name": "stdout",
     "output_type": "stream",
     "text": [
      "INFO:tensorflow:Restoring parameters from ./checkpoints/net_2018-12-19-10-05-17.ckpt-99900\n"
     ]
    }
   ],
   "source": [
    "saver.restore(sess=sess, save_path='./checkpoints/net_2018-12-19-10-05-17.ckpt-99900')"
   ]
  },
  {
   "cell_type": "code",
   "execution_count": 12,
   "metadata": {},
   "outputs": [],
   "source": [
    "pool3, flatten = sess.run([out['pool3'], out['flatten']],feed_dict={net.inputs: example, net.outputs: l})"
   ]
  },
  {
   "cell_type": "code",
   "execution_count": 22,
   "metadata": {},
   "outputs": [
    {
     "data": {
      "text/plain": [
       "(4, 4, 32)"
      ]
     },
     "execution_count": 22,
     "metadata": {},
     "output_type": "execute_result"
    }
   ],
   "source": [
    "pool3[0].shape"
   ]
  },
  {
   "cell_type": "code",
   "execution_count": 21,
   "metadata": {},
   "outputs": [
    {
     "data": {
      "text/plain": [
       "(512,)"
      ]
     },
     "execution_count": 21,
     "metadata": {},
     "output_type": "execute_result"
    }
   ],
   "source": [
    "flatten[0].shape"
   ]
  },
  {
   "cell_type": "code",
   "execution_count": 25,
   "metadata": {},
   "outputs": [
    {
     "data": {
      "text/plain": [
       "array([0.21339354, 0.00682842, 0.        , 0.        , 0.        ,\n",
       "       2.0020204 , 0.01727794, 0.00949821, 0.        , 0.        ,\n",
       "       0.        , 0.        , 1.6171436 , 0.0165365 , 1.8533727 ,\n",
       "       2.5738864 , 2.2308664 , 0.        , 0.        , 0.        ,\n",
       "       0.        , 0.        , 0.        , 0.        , 0.        ,\n",
       "       0.        , 0.        , 0.        , 0.        , 1.1350287 ,\n",
       "       0.        , 0.00654328], dtype=float32)"
      ]
     },
     "execution_count": 25,
     "metadata": {},
     "output_type": "execute_result"
    }
   ],
   "source": [
    "pool3[0,0,0,:]"
   ]
  },
  {
   "cell_type": "code",
   "execution_count": 24,
   "metadata": {},
   "outputs": [
    {
     "data": {
      "text/plain": [
       "array([2.13393539e-01, 6.82841754e-03, 0.00000000e+00, 0.00000000e+00,\n",
       "       0.00000000e+00, 2.00202036e+00, 1.72779448e-02, 9.49821156e-03,\n",
       "       0.00000000e+00, 0.00000000e+00, 0.00000000e+00, 0.00000000e+00,\n",
       "       1.61714363e+00, 1.65364966e-02, 1.85337269e+00, 2.57388639e+00,\n",
       "       2.23086643e+00, 0.00000000e+00, 0.00000000e+00, 0.00000000e+00,\n",
       "       0.00000000e+00, 0.00000000e+00, 0.00000000e+00, 0.00000000e+00,\n",
       "       0.00000000e+00, 0.00000000e+00, 0.00000000e+00, 0.00000000e+00,\n",
       "       0.00000000e+00, 1.13502872e+00, 0.00000000e+00, 6.54328056e-03,\n",
       "       1.43597341e+00, 6.90979138e-03, 3.53333116e-01, 1.71637845e+00,\n",
       "       0.00000000e+00, 4.47012568e+00, 1.72203258e-02, 9.42184590e-03,\n",
       "       5.62785721e+00, 0.00000000e+00, 1.05741529e+01, 0.00000000e+00,\n",
       "       3.79105687e+00, 9.81676960e+00, 2.22025418e+00, 3.91166115e+00,\n",
       "       6.21824837e+00, 0.00000000e+00, 1.05809498e+01, 0.00000000e+00,\n",
       "       0.00000000e+00, 2.19257474e-01, 0.00000000e+00, 1.42925844e-01,\n",
       "       0.00000000e+00, 0.00000000e+00, 0.00000000e+00, 7.95450747e-01,\n",
       "       8.40133190e-01, 3.08777547e+00, 0.00000000e+00, 6.52949931e-03,\n",
       "       0.00000000e+00, 7.00371154e-03, 5.97410321e-01, 1.66092947e-01,\n",
       "       0.00000000e+00, 0.00000000e+00, 1.72903072e-02, 9.46136564e-03,\n",
       "       6.33736029e-02, 0.00000000e+00, 0.00000000e+00, 0.00000000e+00,\n",
       "       0.00000000e+00, 0.00000000e+00, 1.41333687e+00, 3.02007389e+00,\n",
       "       0.00000000e+00, 0.00000000e+00, 6.74057388e+00, 0.00000000e+00,\n",
       "       0.00000000e+00, 0.00000000e+00, 0.00000000e+00, 2.13473582e+00,\n",
       "       0.00000000e+00, 0.00000000e+00, 0.00000000e+00, 0.00000000e+00,\n",
       "       2.38676572e+00, 3.33839715e-01, 0.00000000e+00, 6.52441662e-03,\n",
       "       0.00000000e+00, 6.82933768e-03, 0.00000000e+00, 0.00000000e+00,\n",
       "       1.30541325e-02, 0.00000000e+00, 1.72789656e-02, 9.44647007e-03,\n",
       "       0.00000000e+00, 0.00000000e+00, 0.00000000e+00, 0.00000000e+00,\n",
       "       5.79909310e-02, 0.00000000e+00, 0.00000000e+00, 2.78171077e-02,\n",
       "       0.00000000e+00, 0.00000000e+00, 0.00000000e+00, 0.00000000e+00,\n",
       "       0.00000000e+00, 1.00687519e-02, 0.00000000e+00, 0.00000000e+00,\n",
       "       0.00000000e+00, 0.00000000e+00, 0.00000000e+00, 0.00000000e+00,\n",
       "       0.00000000e+00, 0.00000000e+00, 0.00000000e+00, 6.54405868e-03,\n",
       "       6.51230067e-02, 6.82778563e-03, 0.00000000e+00, 0.00000000e+00,\n",
       "       3.08380318e+00, 0.00000000e+00, 1.72776636e-02, 9.45834722e-03,\n",
       "       0.00000000e+00, 0.00000000e+00, 2.01661661e-02, 0.00000000e+00,\n",
       "       2.26132423e-01, 0.00000000e+00, 1.47915018e+00, 8.64451006e-02,\n",
       "       0.00000000e+00, 0.00000000e+00, 0.00000000e+00, 0.00000000e+00,\n",
       "       0.00000000e+00, 0.00000000e+00, 0.00000000e+00, 0.00000000e+00,\n",
       "       0.00000000e+00, 0.00000000e+00, 0.00000000e+00, 0.00000000e+00,\n",
       "       0.00000000e+00, 2.91802287e+00, 0.00000000e+00, 6.54308358e-03,\n",
       "       6.06301689e+00, 6.84543559e-03, 2.60029435e+00, 5.39201546e+00,\n",
       "       0.00000000e+00, 2.30164146e+00, 1.70198139e-02, 9.36078373e-03,\n",
       "       8.14758301e+00, 0.00000000e+00, 1.32668343e+01, 0.00000000e+00,\n",
       "       0.00000000e+00, 1.15353775e+01, 4.01791811e+00, 0.00000000e+00,\n",
       "       3.41194272e+00, 0.00000000e+00, 8.79576969e+00, 0.00000000e+00,\n",
       "       0.00000000e+00, 4.69837189e+00, 0.00000000e+00, 1.43402016e+00,\n",
       "       0.00000000e+00, 0.00000000e+00, 0.00000000e+00, 1.29418445e+00,\n",
       "       8.07352424e-01, 3.67821026e+00, 0.00000000e+00, 6.46423176e-03,\n",
       "       0.00000000e+00, 7.06057623e-03, 7.85810709e-01, 2.42251801e+00,\n",
       "       0.00000000e+00, 0.00000000e+00, 1.72528923e-02, 9.41598602e-03,\n",
       "       0.00000000e+00, 0.00000000e+00, 0.00000000e+00, 0.00000000e+00,\n",
       "       0.00000000e+00, 0.00000000e+00, 5.77519512e+00, 2.66324210e+00,\n",
       "       0.00000000e+00, 0.00000000e+00, 1.30575609e+01, 0.00000000e+00,\n",
       "       0.00000000e+00, 0.00000000e+00, 0.00000000e+00, 4.34405422e+00,\n",
       "       0.00000000e+00, 0.00000000e+00, 0.00000000e+00, 0.00000000e+00,\n",
       "       4.96760559e+00, 1.60068846e+00, 0.00000000e+00, 6.46329205e-03,\n",
       "       0.00000000e+00, 6.82904059e-03, 0.00000000e+00, 0.00000000e+00,\n",
       "       7.91308284e-03, 0.00000000e+00, 1.72785819e-02, 9.44609661e-03,\n",
       "       0.00000000e+00, 0.00000000e+00, 0.00000000e+00, 0.00000000e+00,\n",
       "       0.00000000e+00, 0.00000000e+00, 0.00000000e+00, 2.63656676e-02,\n",
       "       0.00000000e+00, 0.00000000e+00, 0.00000000e+00, 0.00000000e+00,\n",
       "       0.00000000e+00, 9.70564038e-03, 0.00000000e+00, 0.00000000e+00,\n",
       "       0.00000000e+00, 0.00000000e+00, 0.00000000e+00, 0.00000000e+00,\n",
       "       0.00000000e+00, 0.00000000e+00, 0.00000000e+00, 6.54359348e-03,\n",
       "       1.63354762e-02, 6.82789134e-03, 0.00000000e+00, 0.00000000e+00,\n",
       "       0.00000000e+00, 0.00000000e+00, 1.72775518e-02, 9.46403388e-03,\n",
       "       0.00000000e+00, 0.00000000e+00, 0.00000000e+00, 0.00000000e+00,\n",
       "       5.00824600e-02, 2.20444053e-04, 8.67418826e-01, 3.90497148e-01,\n",
       "       0.00000000e+00, 0.00000000e+00, 0.00000000e+00, 0.00000000e+00,\n",
       "       0.00000000e+00, 0.00000000e+00, 0.00000000e+00, 0.00000000e+00,\n",
       "       0.00000000e+00, 0.00000000e+00, 0.00000000e+00, 0.00000000e+00,\n",
       "       0.00000000e+00, 9.96639132e-02, 0.00000000e+00, 6.54320279e-03,\n",
       "       7.16656208e+00, 6.76076859e-03, 3.69500542e+00, 4.30168056e+00,\n",
       "       0.00000000e+00, 6.14907086e-01, 1.71750728e-02, 9.38941166e-03,\n",
       "       4.44794846e+00, 0.00000000e+00, 7.38099480e+00, 0.00000000e+00,\n",
       "       0.00000000e+00, 8.63779449e+00, 1.38206172e+00, 0.00000000e+00,\n",
       "       4.43772125e+00, 0.00000000e+00, 0.00000000e+00, 0.00000000e+00,\n",
       "       0.00000000e+00, 6.92537689e+00, 0.00000000e+00, 1.65837562e+00,\n",
       "       0.00000000e+00, 0.00000000e+00, 0.00000000e+00, 4.10388976e-01,\n",
       "       2.68820584e-01, 1.46703553e+00, 0.00000000e+00, 6.46502012e-03,\n",
       "       2.82033181e+00, 7.00351782e-03, 2.96349239e+00, 4.95367432e+00,\n",
       "       3.02430296e+00, 1.38225853e+00, 1.72183234e-02, 9.36730020e-03,\n",
       "       0.00000000e+00, 0.00000000e+00, 1.79885224e-01, 0.00000000e+00,\n",
       "       1.32974017e+00, 8.75896358e+00, 5.38215256e+00, 2.24185753e+00,\n",
       "       0.00000000e+00, 0.00000000e+00, 1.15026426e+01, 0.00000000e+00,\n",
       "       0.00000000e+00, 3.61541820e+00, 0.00000000e+00, 4.34561205e+00,\n",
       "       0.00000000e+00, 0.00000000e+00, 0.00000000e+00, 1.74624050e+00,\n",
       "       4.93080187e+00, 1.75301015e+00, 0.00000000e+00, 6.46713888e-03,\n",
       "       0.00000000e+00, 6.82904059e-03, 0.00000000e+00, 0.00000000e+00,\n",
       "       7.91308284e-03, 0.00000000e+00, 1.72785819e-02, 9.44609661e-03,\n",
       "       0.00000000e+00, 0.00000000e+00, 0.00000000e+00, 0.00000000e+00,\n",
       "       0.00000000e+00, 0.00000000e+00, 0.00000000e+00, 2.63656676e-02,\n",
       "       0.00000000e+00, 0.00000000e+00, 0.00000000e+00, 0.00000000e+00,\n",
       "       0.00000000e+00, 9.99757648e-03, 0.00000000e+00, 0.00000000e+00,\n",
       "       0.00000000e+00, 0.00000000e+00, 0.00000000e+00, 0.00000000e+00,\n",
       "       0.00000000e+00, 0.00000000e+00, 0.00000000e+00, 6.54359348e-03,\n",
       "       0.00000000e+00, 6.82821311e-03, 0.00000000e+00, 0.00000000e+00,\n",
       "       1.70463324e-03, 0.00000000e+00, 1.72813442e-02, 9.44712944e-03,\n",
       "       0.00000000e+00, 0.00000000e+00, 0.00000000e+00, 0.00000000e+00,\n",
       "       0.00000000e+00, 0.00000000e+00, 0.00000000e+00, 5.38515925e-01,\n",
       "       2.45010033e-02, 0.00000000e+00, 0.00000000e+00, 0.00000000e+00,\n",
       "       0.00000000e+00, 0.00000000e+00, 0.00000000e+00, 0.00000000e+00,\n",
       "       0.00000000e+00, 0.00000000e+00, 0.00000000e+00, 0.00000000e+00,\n",
       "       0.00000000e+00, 0.00000000e+00, 0.00000000e+00, 6.54375274e-03,\n",
       "       3.51237321e+00, 6.77699037e-03, 1.17725730e+00, 5.47357559e+00,\n",
       "       4.13841784e-01, 0.00000000e+00, 1.72731895e-02, 9.43203550e-03,\n",
       "       0.00000000e+00, 0.00000000e+00, 0.00000000e+00, 0.00000000e+00,\n",
       "       0.00000000e+00, 0.00000000e+00, 0.00000000e+00, 0.00000000e+00,\n",
       "       0.00000000e+00, 0.00000000e+00, 0.00000000e+00, 0.00000000e+00,\n",
       "       0.00000000e+00, 2.82251549e+00, 0.00000000e+00, 6.49597347e-01,\n",
       "       0.00000000e+00, 0.00000000e+00, 0.00000000e+00, 1.43151832e+00,\n",
       "       6.98724911e-02, 0.00000000e+00, 0.00000000e+00, 6.49321685e-03,\n",
       "       3.89994526e+00, 6.90401299e-03, 2.45352817e+00, 2.65363485e-01,\n",
       "       5.97607422e+00, 0.00000000e+00, 1.72396488e-02, 9.34713800e-03,\n",
       "       0.00000000e+00, 0.00000000e+00, 3.19259501e+00, 0.00000000e+00,\n",
       "       0.00000000e+00, 4.56965971e+00, 2.12010264e+00, 0.00000000e+00,\n",
       "       5.35689473e-01, 0.00000000e+00, 2.99594998e+00, 0.00000000e+00,\n",
       "       0.00000000e+00, 2.89819980e+00, 0.00000000e+00, 3.72862864e+00,\n",
       "       0.00000000e+00, 0.00000000e+00, 0.00000000e+00, 4.02134180e+00,\n",
       "       6.38362885e-01, 0.00000000e+00, 0.00000000e+00, 6.49038842e-03,\n",
       "       0.00000000e+00, 6.82879752e-03, 0.00000000e+00, 0.00000000e+00,\n",
       "       1.09805539e-02, 0.00000000e+00, 1.72780547e-02, 9.44653433e-03,\n",
       "       0.00000000e+00, 0.00000000e+00, 0.00000000e+00, 0.00000000e+00,\n",
       "       0.00000000e+00, 0.00000000e+00, 0.00000000e+00, 3.90034765e-02,\n",
       "       0.00000000e+00, 0.00000000e+00, 0.00000000e+00, 0.00000000e+00,\n",
       "       0.00000000e+00, 0.00000000e+00, 0.00000000e+00, 0.00000000e+00,\n",
       "       0.00000000e+00, 0.00000000e+00, 0.00000000e+00, 0.00000000e+00,\n",
       "       0.00000000e+00, 0.00000000e+00, 0.00000000e+00, 6.54368848e-03],\n",
       "      dtype=float32)"
      ]
     },
     "execution_count": 24,
     "metadata": {},
     "output_type": "execute_result"
    }
   ],
   "source": [
    "flatten[0]"
   ]
  },
  {
   "cell_type": "code",
   "execution_count": null,
   "metadata": {},
   "outputs": [],
   "source": []
  },
  {
   "cell_type": "code",
   "execution_count": null,
   "metadata": {},
   "outputs": [],
   "source": []
  },
  {
   "cell_type": "code",
   "execution_count": null,
   "metadata": {},
   "outputs": [],
   "source": []
  }
 ],
 "metadata": {
  "kernelspec": {
   "display_name": "Python 3",
   "language": "python",
   "name": "python3"
  },
  "language_info": {
   "codemirror_mode": {
    "name": "ipython",
    "version": 3
   },
   "file_extension": ".py",
   "mimetype": "text/x-python",
   "name": "python",
   "nbconvert_exporter": "python",
   "pygments_lexer": "ipython3",
   "version": "3.6.4"
  }
 },
 "nbformat": 4,
 "nbformat_minor": 2
}
